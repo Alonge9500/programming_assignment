{
  "nbformat": 4,
  "nbformat_minor": 0,
  "metadata": {
    "colab": {
      "provenance": [],
      "authorship_tag": "ABX9TyNHJ4zelGpi6fernOcZPmnp",
      "include_colab_link": true
    },
    "kernelspec": {
      "name": "python3",
      "display_name": "Python 3"
    },
    "language_info": {
      "name": "python"
    }
  },
  "cells": [
    {
      "cell_type": "markdown",
      "metadata": {
        "id": "view-in-github",
        "colab_type": "text"
      },
      "source": [
        "<a href=\"https://colab.research.google.com/github/Alonge9500/programming_assignment/blob/main/task_3.ipynb\" target=\"_parent\"><img src=\"https://colab.research.google.com/assets/colab-badge.svg\" alt=\"Open In Colab\"/></a>"
      ]
    },
    {
      "cell_type": "code",
      "execution_count": null,
      "metadata": {
        "id": "Vkrhue3iZ-qC"
      },
      "outputs": [],
      "source": [
        "#Mod Divmod\n",
        "\n",
        "# Enter your code here. Read input from STDIN. Print output to STDOUT\n",
        "a = int(input())\n",
        "b = int(input())\n",
        "\n",
        "print(a//b)\n",
        "print(a%b)\n",
        "print(divmod(a,b))\n"
      ]
    },
    {
      "cell_type": "code",
      "source": [
        "# Power - Mod Power\n",
        "\n",
        "# Enter your code here. Read input from STDIN. Print output to STDOUT\n",
        "a = int(input())\n",
        "b = int(input())\n",
        "m = int(input())\n",
        "\n",
        "print(pow(a,b))\n",
        "print(pow(a,b,m))\n"
      ],
      "metadata": {
        "id": "KbY29FpJaMAJ"
      },
      "execution_count": null,
      "outputs": []
    },
    {
      "cell_type": "code",
      "source": [
        "#Find Angle\n",
        "\n",
        "# Enter your code here. Read input from STDIN. Print output to STDOUT\n",
        "\n",
        "import math\n",
        "\n",
        "AB = int(input())\n",
        "BC = int(input())\n",
        "\n",
        "ratio = BC / AB\n",
        "angle = math.degrees(math.atan(ratio))\n",
        "\n",
        "print(f'{round(angle)}\\N{DEGREE SIGN}')"
      ],
      "metadata": {
        "id": "xQXZDtNzLlWK"
      },
      "execution_count": null,
      "outputs": []
    },
    {
      "cell_type": "code",
      "source": [
        "#polar-coordinates\n",
        "# Enter your code here. Read input from STDIN. Print output to STDOUT\n",
        "import cmath\n",
        "z = complex(input())\n",
        "\n",
        "r = cmath.polar(z)[0]\n",
        "p = cmath.phase(z)\n",
        "\n",
        "print(r)\n",
        "print(p)\n"
      ],
      "metadata": {
        "id": "DjDjsgTWLqEf"
      },
      "execution_count": null,
      "outputs": []
    },
    {
      "cell_type": "code",
      "source": [
        "# triangle-quest-2\n",
        "\n",
        "\n",
        "\n",
        "\n",
        "\n",
        "for i in range(1,int(input())+1): #More than 2 lines will result in 0 score. Do not leave a blank line also\n",
        "    print((10**i//9)**2)\n"
      ],
      "metadata": {
        "id": "vHkx1esOWefQ"
      },
      "execution_count": null,
      "outputs": []
    },
    {
      "cell_type": "code",
      "source": [
        "# integer come in sizes\n",
        "\n",
        "# Enter your code here. Read input from STDIN. Print output to STDOUT\n",
        "import math\n",
        "a = int(input())\n",
        "b = int(input())\n",
        "c = int(input())\n",
        "d = int(input())\n",
        "num = (a**b) + (c**d)\n",
        "num = int(num)\n",
        "\n",
        "print(num)\n"
      ],
      "metadata": {
        "id": "Qy_GEYWkMJCV"
      },
      "execution_count": null,
      "outputs": []
    },
    {
      "cell_type": "code",
      "source": [
        "#Triangle quest\n",
        "\n",
        "for i in range(1,int(input())): #More than 2 lines will result in 0 score. Do not leave a blank line also\n",
        "    print((10**i//9) * i)"
      ],
      "metadata": {
        "id": "r01tuJCHXHZ1"
      },
      "execution_count": null,
      "outputs": []
    }
  ]
}