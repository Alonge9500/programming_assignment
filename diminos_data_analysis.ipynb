{
  "nbformat": 4,
  "nbformat_minor": 0,
  "metadata": {
    "colab": {
      "provenance": [],
      "authorship_tag": "ABX9TyMfweB2kprgBCBgZoyW7s8j",
      "include_colab_link": true
    },
    "kernelspec": {
      "name": "python3",
      "display_name": "Python 3"
    },
    "language_info": {
      "name": "python"
    }
  },
  "cells": [
    {
      "cell_type": "markdown",
      "metadata": {
        "id": "view-in-github",
        "colab_type": "text"
      },
      "source": [
        "<a href=\"https://colab.research.google.com/github/Alonge9500/programming_assignment/blob/main/diminos_data_analysis.ipynb\" target=\"_parent\"><img src=\"https://colab.research.google.com/assets/colab-badge.svg\" alt=\"Open In Colab\"/></a>"
      ]
    },
    {
      "cell_type": "markdown",
      "source": [
        "## Diminos Store - Delivery Time\n",
        "\n",
        "* Dataset Link - diminos_data.csv\n",
        "\n",
        "#### Problem Statement 🍕\n",
        "Kanav has started his own Pizza Store by getting the Franchise from the popular Pizza brand Diminos. \n",
        "Diminos promises to deliver the pizza order within 31 minutes from the time the order was placed. Otherwise the pizza will be free for the customer.\n",
        "In order to increase the revenue and profits Kanav is running the store 24 * 7.\n",
        "Recently Diminos gave a notice to Kanav that they will be measuring their stores' performance by looking at the metric - which is 95th Percentile on Order Delivery time should be less than 31 mins.\n",
        "Kanav is worried that he might lose the franchise if he is not able to meet the metric and wants your help in order to understand his store's performance so that he can take some actions to prevent his business. \n"
      ],
      "metadata": {
        "id": "Lb-ngrXh-sPk"
      }
    },
    {
      "cell_type": "code",
      "execution_count": 1,
      "metadata": {
        "id": "Gi5EJgCT9Jkt"
      },
      "outputs": [],
      "source": [
        "#Importing Required Libraries\n",
        "import pandas as pd\n",
        "import numpy as np\n",
        "\n"
      ]
    },
    {
      "cell_type": "code",
      "source": [
        "#Load Data\n",
        "\n",
        "data = pd.read_csv('diminos_data.csv')\n",
        "data.head()"
      ],
      "metadata": {
        "colab": {
          "base_uri": "https://localhost:8080/",
          "height": 206
        },
        "id": "equaqvat-CYj",
        "outputId": "a371a77a-03fb-4773-9298-921af6b521e2"
      },
      "execution_count": 3,
      "outputs": [
        {
          "output_type": "execute_result",
          "data": {
            "text/plain": [
              "   order_id      order_placed_at          order_delivered_at\n",
              "0   1523111  2023-03-01 00:00:59  2023-03-01 00:18:07.443132\n",
              "1   1523112  2023-03-01 00:03:59  2023-03-01 00:19:34.925241\n",
              "2   1523113  2023-03-01 00:07:22  2023-03-01 00:22:28.291385\n",
              "3   1523114  2023-03-01 00:07:47  2023-03-01 00:46:19.019399\n",
              "4   1523115  2023-03-01 00:09:03  2023-03-01 00:25:13.619056"
            ],
            "text/html": [
              "\n",
              "  <div id=\"df-c736a64a-11c7-4d80-92ea-519335a6bbf9\">\n",
              "    <div class=\"colab-df-container\">\n",
              "      <div>\n",
              "<style scoped>\n",
              "    .dataframe tbody tr th:only-of-type {\n",
              "        vertical-align: middle;\n",
              "    }\n",
              "\n",
              "    .dataframe tbody tr th {\n",
              "        vertical-align: top;\n",
              "    }\n",
              "\n",
              "    .dataframe thead th {\n",
              "        text-align: right;\n",
              "    }\n",
              "</style>\n",
              "<table border=\"1\" class=\"dataframe\">\n",
              "  <thead>\n",
              "    <tr style=\"text-align: right;\">\n",
              "      <th></th>\n",
              "      <th>order_id</th>\n",
              "      <th>order_placed_at</th>\n",
              "      <th>order_delivered_at</th>\n",
              "    </tr>\n",
              "  </thead>\n",
              "  <tbody>\n",
              "    <tr>\n",
              "      <th>0</th>\n",
              "      <td>1523111</td>\n",
              "      <td>2023-03-01 00:00:59</td>\n",
              "      <td>2023-03-01 00:18:07.443132</td>\n",
              "    </tr>\n",
              "    <tr>\n",
              "      <th>1</th>\n",
              "      <td>1523112</td>\n",
              "      <td>2023-03-01 00:03:59</td>\n",
              "      <td>2023-03-01 00:19:34.925241</td>\n",
              "    </tr>\n",
              "    <tr>\n",
              "      <th>2</th>\n",
              "      <td>1523113</td>\n",
              "      <td>2023-03-01 00:07:22</td>\n",
              "      <td>2023-03-01 00:22:28.291385</td>\n",
              "    </tr>\n",
              "    <tr>\n",
              "      <th>3</th>\n",
              "      <td>1523114</td>\n",
              "      <td>2023-03-01 00:07:47</td>\n",
              "      <td>2023-03-01 00:46:19.019399</td>\n",
              "    </tr>\n",
              "    <tr>\n",
              "      <th>4</th>\n",
              "      <td>1523115</td>\n",
              "      <td>2023-03-01 00:09:03</td>\n",
              "      <td>2023-03-01 00:25:13.619056</td>\n",
              "    </tr>\n",
              "  </tbody>\n",
              "</table>\n",
              "</div>\n",
              "      <button class=\"colab-df-convert\" onclick=\"convertToInteractive('df-c736a64a-11c7-4d80-92ea-519335a6bbf9')\"\n",
              "              title=\"Convert this dataframe to an interactive table.\"\n",
              "              style=\"display:none;\">\n",
              "        \n",
              "  <svg xmlns=\"http://www.w3.org/2000/svg\" height=\"24px\"viewBox=\"0 0 24 24\"\n",
              "       width=\"24px\">\n",
              "    <path d=\"M0 0h24v24H0V0z\" fill=\"none\"/>\n",
              "    <path d=\"M18.56 5.44l.94 2.06.94-2.06 2.06-.94-2.06-.94-.94-2.06-.94 2.06-2.06.94zm-11 1L8.5 8.5l.94-2.06 2.06-.94-2.06-.94L8.5 2.5l-.94 2.06-2.06.94zm10 10l.94 2.06.94-2.06 2.06-.94-2.06-.94-.94-2.06-.94 2.06-2.06.94z\"/><path d=\"M17.41 7.96l-1.37-1.37c-.4-.4-.92-.59-1.43-.59-.52 0-1.04.2-1.43.59L10.3 9.45l-7.72 7.72c-.78.78-.78 2.05 0 2.83L4 21.41c.39.39.9.59 1.41.59.51 0 1.02-.2 1.41-.59l7.78-7.78 2.81-2.81c.8-.78.8-2.07 0-2.86zM5.41 20L4 18.59l7.72-7.72 1.47 1.35L5.41 20z\"/>\n",
              "  </svg>\n",
              "      </button>\n",
              "      \n",
              "  <style>\n",
              "    .colab-df-container {\n",
              "      display:flex;\n",
              "      flex-wrap:wrap;\n",
              "      gap: 12px;\n",
              "    }\n",
              "\n",
              "    .colab-df-convert {\n",
              "      background-color: #E8F0FE;\n",
              "      border: none;\n",
              "      border-radius: 50%;\n",
              "      cursor: pointer;\n",
              "      display: none;\n",
              "      fill: #1967D2;\n",
              "      height: 32px;\n",
              "      padding: 0 0 0 0;\n",
              "      width: 32px;\n",
              "    }\n",
              "\n",
              "    .colab-df-convert:hover {\n",
              "      background-color: #E2EBFA;\n",
              "      box-shadow: 0px 1px 2px rgba(60, 64, 67, 0.3), 0px 1px 3px 1px rgba(60, 64, 67, 0.15);\n",
              "      fill: #174EA6;\n",
              "    }\n",
              "\n",
              "    [theme=dark] .colab-df-convert {\n",
              "      background-color: #3B4455;\n",
              "      fill: #D2E3FC;\n",
              "    }\n",
              "\n",
              "    [theme=dark] .colab-df-convert:hover {\n",
              "      background-color: #434B5C;\n",
              "      box-shadow: 0px 1px 3px 1px rgba(0, 0, 0, 0.15);\n",
              "      filter: drop-shadow(0px 1px 2px rgba(0, 0, 0, 0.3));\n",
              "      fill: #FFFFFF;\n",
              "    }\n",
              "  </style>\n",
              "\n",
              "      <script>\n",
              "        const buttonEl =\n",
              "          document.querySelector('#df-c736a64a-11c7-4d80-92ea-519335a6bbf9 button.colab-df-convert');\n",
              "        buttonEl.style.display =\n",
              "          google.colab.kernel.accessAllowed ? 'block' : 'none';\n",
              "\n",
              "        async function convertToInteractive(key) {\n",
              "          const element = document.querySelector('#df-c736a64a-11c7-4d80-92ea-519335a6bbf9');\n",
              "          const dataTable =\n",
              "            await google.colab.kernel.invokeFunction('convertToInteractive',\n",
              "                                                     [key], {});\n",
              "          if (!dataTable) return;\n",
              "\n",
              "          const docLinkHtml = 'Like what you see? Visit the ' +\n",
              "            '<a target=\"_blank\" href=https://colab.research.google.com/notebooks/data_table.ipynb>data table notebook</a>'\n",
              "            + ' to learn more about interactive tables.';\n",
              "          element.innerHTML = '';\n",
              "          dataTable['output_type'] = 'display_data';\n",
              "          await google.colab.output.renderOutput(dataTable, element);\n",
              "          const docLink = document.createElement('div');\n",
              "          docLink.innerHTML = docLinkHtml;\n",
              "          element.appendChild(docLink);\n",
              "        }\n",
              "      </script>\n",
              "    </div>\n",
              "  </div>\n",
              "  "
            ]
          },
          "metadata": {},
          "execution_count": 3
        }
      ]
    },
    {
      "cell_type": "code",
      "source": [
        "data.info()"
      ],
      "metadata": {
        "colab": {
          "base_uri": "https://localhost:8080/"
        },
        "id": "nIL-9m7_-mj_",
        "outputId": "0b3de2e9-29f6-4d81-90af-599bddfe5ed0"
      },
      "execution_count": 5,
      "outputs": [
        {
          "output_type": "stream",
          "name": "stdout",
          "text": [
            "<class 'pandas.core.frame.DataFrame'>\n",
            "RangeIndex: 15000 entries, 0 to 14999\n",
            "Data columns (total 3 columns):\n",
            " #   Column              Non-Null Count  Dtype \n",
            "---  ------              --------------  ----- \n",
            " 0   order_id            15000 non-null  int64 \n",
            " 1   order_placed_at     15000 non-null  object\n",
            " 2   order_delivered_at  15000 non-null  object\n",
            "dtypes: int64(1), object(2)\n",
            "memory usage: 351.7+ KB\n"
          ]
        }
      ]
    },
    {
      "cell_type": "code",
      "source": [
        "# Convert date columns to date time \n",
        "\n",
        "data['order_placed_at'] = pd.to_datetime(data['order_placed_at'])\n",
        "data['order_delivered_at'] = pd.to_datetime(data['order_delivered_at'])"
      ],
      "metadata": {
        "id": "zmKilumN_5V4"
      },
      "execution_count": 6,
      "outputs": []
    },
    {
      "cell_type": "code",
      "source": [
        "#Create new columns of delivery duration\n",
        "\n",
        "data['delivery_duration'] = (data['order_delivered_at'] - data['order_placed_at']).dt.total_seconds()/60\n",
        "\n",
        "#Create new column for days of the week\n",
        "\n",
        "day_map = {0: 'Monday', 1: 'Tuesday', 2: 'Wednesday', 3: 'Thursday', 4: 'Friday', 5: 'Saturday', 6: 'Sunday'}\n",
        "\n",
        "data['day_of_the_week_num'] = data['order_placed_at'].dt.dayofweek\n",
        "data['day_of_the_week'] = data['day_of_the_week_num'].map(day_map)\n"
      ],
      "metadata": {
        "id": "Wmx9shzEA6Ls"
      },
      "execution_count": 22,
      "outputs": []
    },
    {
      "cell_type": "code",
      "source": [
        "data.head()"
      ],
      "metadata": {
        "colab": {
          "base_uri": "https://localhost:8080/",
          "height": 206
        },
        "id": "ctIfFOevA8Oj",
        "outputId": "e2f8a872-f758-42f4-ad9a-e3db65a93c9d"
      },
      "execution_count": 23,
      "outputs": [
        {
          "output_type": "execute_result",
          "data": {
            "text/plain": [
              "   order_id     order_placed_at         order_delivered_at  delivery_duration  \\\n",
              "0   1523111 2023-03-01 00:00:59 2023-03-01 00:18:07.443132          17.140719   \n",
              "1   1523112 2023-03-01 00:03:59 2023-03-01 00:19:34.925241          15.598754   \n",
              "2   1523113 2023-03-01 00:07:22 2023-03-01 00:22:28.291385          15.104856   \n",
              "3   1523114 2023-03-01 00:07:47 2023-03-01 00:46:19.019399          38.533657   \n",
              "4   1523115 2023-03-01 00:09:03 2023-03-01 00:25:13.619056          16.176984   \n",
              "\n",
              "  day_of_the_week  day_of_the_week_num  \n",
              "0       Wednesday                    2  \n",
              "1       Wednesday                    2  \n",
              "2       Wednesday                    2  \n",
              "3       Wednesday                    2  \n",
              "4       Wednesday                    2  "
            ],
            "text/html": [
              "\n",
              "  <div id=\"df-8596c534-cffa-41be-90d4-417d5f857b72\">\n",
              "    <div class=\"colab-df-container\">\n",
              "      <div>\n",
              "<style scoped>\n",
              "    .dataframe tbody tr th:only-of-type {\n",
              "        vertical-align: middle;\n",
              "    }\n",
              "\n",
              "    .dataframe tbody tr th {\n",
              "        vertical-align: top;\n",
              "    }\n",
              "\n",
              "    .dataframe thead th {\n",
              "        text-align: right;\n",
              "    }\n",
              "</style>\n",
              "<table border=\"1\" class=\"dataframe\">\n",
              "  <thead>\n",
              "    <tr style=\"text-align: right;\">\n",
              "      <th></th>\n",
              "      <th>order_id</th>\n",
              "      <th>order_placed_at</th>\n",
              "      <th>order_delivered_at</th>\n",
              "      <th>delivery_duration</th>\n",
              "      <th>day_of_the_week</th>\n",
              "      <th>day_of_the_week_num</th>\n",
              "    </tr>\n",
              "  </thead>\n",
              "  <tbody>\n",
              "    <tr>\n",
              "      <th>0</th>\n",
              "      <td>1523111</td>\n",
              "      <td>2023-03-01 00:00:59</td>\n",
              "      <td>2023-03-01 00:18:07.443132</td>\n",
              "      <td>17.140719</td>\n",
              "      <td>Wednesday</td>\n",
              "      <td>2</td>\n",
              "    </tr>\n",
              "    <tr>\n",
              "      <th>1</th>\n",
              "      <td>1523112</td>\n",
              "      <td>2023-03-01 00:03:59</td>\n",
              "      <td>2023-03-01 00:19:34.925241</td>\n",
              "      <td>15.598754</td>\n",
              "      <td>Wednesday</td>\n",
              "      <td>2</td>\n",
              "    </tr>\n",
              "    <tr>\n",
              "      <th>2</th>\n",
              "      <td>1523113</td>\n",
              "      <td>2023-03-01 00:07:22</td>\n",
              "      <td>2023-03-01 00:22:28.291385</td>\n",
              "      <td>15.104856</td>\n",
              "      <td>Wednesday</td>\n",
              "      <td>2</td>\n",
              "    </tr>\n",
              "    <tr>\n",
              "      <th>3</th>\n",
              "      <td>1523114</td>\n",
              "      <td>2023-03-01 00:07:47</td>\n",
              "      <td>2023-03-01 00:46:19.019399</td>\n",
              "      <td>38.533657</td>\n",
              "      <td>Wednesday</td>\n",
              "      <td>2</td>\n",
              "    </tr>\n",
              "    <tr>\n",
              "      <th>4</th>\n",
              "      <td>1523115</td>\n",
              "      <td>2023-03-01 00:09:03</td>\n",
              "      <td>2023-03-01 00:25:13.619056</td>\n",
              "      <td>16.176984</td>\n",
              "      <td>Wednesday</td>\n",
              "      <td>2</td>\n",
              "    </tr>\n",
              "  </tbody>\n",
              "</table>\n",
              "</div>\n",
              "      <button class=\"colab-df-convert\" onclick=\"convertToInteractive('df-8596c534-cffa-41be-90d4-417d5f857b72')\"\n",
              "              title=\"Convert this dataframe to an interactive table.\"\n",
              "              style=\"display:none;\">\n",
              "        \n",
              "  <svg xmlns=\"http://www.w3.org/2000/svg\" height=\"24px\"viewBox=\"0 0 24 24\"\n",
              "       width=\"24px\">\n",
              "    <path d=\"M0 0h24v24H0V0z\" fill=\"none\"/>\n",
              "    <path d=\"M18.56 5.44l.94 2.06.94-2.06 2.06-.94-2.06-.94-.94-2.06-.94 2.06-2.06.94zm-11 1L8.5 8.5l.94-2.06 2.06-.94-2.06-.94L8.5 2.5l-.94 2.06-2.06.94zm10 10l.94 2.06.94-2.06 2.06-.94-2.06-.94-.94-2.06-.94 2.06-2.06.94z\"/><path d=\"M17.41 7.96l-1.37-1.37c-.4-.4-.92-.59-1.43-.59-.52 0-1.04.2-1.43.59L10.3 9.45l-7.72 7.72c-.78.78-.78 2.05 0 2.83L4 21.41c.39.39.9.59 1.41.59.51 0 1.02-.2 1.41-.59l7.78-7.78 2.81-2.81c.8-.78.8-2.07 0-2.86zM5.41 20L4 18.59l7.72-7.72 1.47 1.35L5.41 20z\"/>\n",
              "  </svg>\n",
              "      </button>\n",
              "      \n",
              "  <style>\n",
              "    .colab-df-container {\n",
              "      display:flex;\n",
              "      flex-wrap:wrap;\n",
              "      gap: 12px;\n",
              "    }\n",
              "\n",
              "    .colab-df-convert {\n",
              "      background-color: #E8F0FE;\n",
              "      border: none;\n",
              "      border-radius: 50%;\n",
              "      cursor: pointer;\n",
              "      display: none;\n",
              "      fill: #1967D2;\n",
              "      height: 32px;\n",
              "      padding: 0 0 0 0;\n",
              "      width: 32px;\n",
              "    }\n",
              "\n",
              "    .colab-df-convert:hover {\n",
              "      background-color: #E2EBFA;\n",
              "      box-shadow: 0px 1px 2px rgba(60, 64, 67, 0.3), 0px 1px 3px 1px rgba(60, 64, 67, 0.15);\n",
              "      fill: #174EA6;\n",
              "    }\n",
              "\n",
              "    [theme=dark] .colab-df-convert {\n",
              "      background-color: #3B4455;\n",
              "      fill: #D2E3FC;\n",
              "    }\n",
              "\n",
              "    [theme=dark] .colab-df-convert:hover {\n",
              "      background-color: #434B5C;\n",
              "      box-shadow: 0px 1px 3px 1px rgba(0, 0, 0, 0.15);\n",
              "      filter: drop-shadow(0px 1px 2px rgba(0, 0, 0, 0.3));\n",
              "      fill: #FFFFFF;\n",
              "    }\n",
              "  </style>\n",
              "\n",
              "      <script>\n",
              "        const buttonEl =\n",
              "          document.querySelector('#df-8596c534-cffa-41be-90d4-417d5f857b72 button.colab-df-convert');\n",
              "        buttonEl.style.display =\n",
              "          google.colab.kernel.accessAllowed ? 'block' : 'none';\n",
              "\n",
              "        async function convertToInteractive(key) {\n",
              "          const element = document.querySelector('#df-8596c534-cffa-41be-90d4-417d5f857b72');\n",
              "          const dataTable =\n",
              "            await google.colab.kernel.invokeFunction('convertToInteractive',\n",
              "                                                     [key], {});\n",
              "          if (!dataTable) return;\n",
              "\n",
              "          const docLinkHtml = 'Like what you see? Visit the ' +\n",
              "            '<a target=\"_blank\" href=https://colab.research.google.com/notebooks/data_table.ipynb>data table notebook</a>'\n",
              "            + ' to learn more about interactive tables.';\n",
              "          element.innerHTML = '';\n",
              "          dataTable['output_type'] = 'display_data';\n",
              "          await google.colab.output.renderOutput(dataTable, element);\n",
              "          const docLink = document.createElement('div');\n",
              "          docLink.innerHTML = docLinkHtml;\n",
              "          element.appendChild(docLink);\n",
              "        }\n",
              "      </script>\n",
              "    </div>\n",
              "  </div>\n",
              "  "
            ]
          },
          "metadata": {},
          "execution_count": 23
        }
      ]
    },
    {
      "cell_type": "code",
      "source": [
        "# Print the mean and median of the delivery duration\n",
        "print(data.delivery_duration.mean())\n",
        "print(data.delivery_duration.median())"
      ],
      "metadata": {
        "colab": {
          "base_uri": "https://localhost:8080/"
        },
        "id": "Gg_d6T7GBf06",
        "outputId": "0f60e80f-bf27-40dd-82e0-0304bca59f70"
      },
      "execution_count": 28,
      "outputs": [
        {
          "output_type": "stream",
          "name": "stdout",
          "text": [
            "20.49938932646778\n",
            "15.797986066666668\n"
          ]
        }
      ]
    },
    {
      "cell_type": "code",
      "source": [
        "print(data.delivery_duration.max())\n",
        "\n",
        "print(np.percentile(data.delivery_duration,95))"
      ],
      "metadata": {
        "colab": {
          "base_uri": "https://localhost:8080/"
        },
        "id": "JKbwjC3eG0Qm",
        "outputId": "3dfb5e21-50ba-483d-db73-61b4994e65e3"
      },
      "execution_count": 37,
      "outputs": [
        {
          "output_type": "stream",
          "name": "stdout",
          "text": [
            "7299.831374933334\n",
            "27.261043996666658\n"
          ]
        }
      ]
    },
    {
      "cell_type": "code",
      "source": [
        "# Check delivery duration using histogram and boxplot\n",
        "\n",
        "data.delivery_duration.plot(kind='box')"
      ],
      "metadata": {
        "colab": {
          "base_uri": "https://localhost:8080/",
          "height": 447
        },
        "id": "tHJ_3nKQGW9M",
        "outputId": "1802d3e4-2838-4dcb-b432-b6ca209062b0"
      },
      "execution_count": 34,
      "outputs": [
        {
          "output_type": "execute_result",
          "data": {
            "text/plain": [
              "<Axes: >"
            ]
          },
          "metadata": {},
          "execution_count": 34
        },
        {
          "output_type": "display_data",
          "data": {
            "text/plain": [
              "<Figure size 640x480 with 1 Axes>"
            ],
            "image/png": "[encoded data removed]"
          },
          "metadata": {}
        }
      ]
    },
    {
      "cell_type": "code",
      "source": [
        "data.day_of_the_week.value_counts()"
      ],
      "metadata": {
        "colab": {
          "base_uri": "https://localhost:8080/"
        },
        "id": "n4D-oA99FzaW",
        "outputId": "143a7774-2f2a-4e6b-b1d8-800037d21c43"
      },
      "execution_count": 31,
      "outputs": [
        {
          "output_type": "execute_result",
          "data": {
            "text/plain": [
              "Thursday     2280\n",
              "Wednesday    2259\n",
              "Monday       2256\n",
              "Friday       2223\n",
              "Saturday     2209\n",
              "Sunday       2191\n",
              "Tuesday      1582\n",
              "Name: day_of_the_week, dtype: int64"
            ]
          },
          "metadata": {},
          "execution_count": 31
        }
      ]
    },
    {
      "cell_type": "code",
      "source": [
        "data.day_of_the_week.value_counts().plot(kind='bar')"
      ],
      "metadata": {
        "colab": {
          "base_uri": "https://localhost:8080/",
          "height": 513
        },
        "id": "d3pLDP5DFfTd",
        "outputId": "47421af8-8b8d-4142-c3aa-8e93a695c9ab"
      },
      "execution_count": 30,
      "outputs": [
        {
          "output_type": "execute_result",
          "data": {
            "text/plain": [
              "<Axes: >"
            ]
          },
          "metadata": {},
          "execution_count": 30
        },
        {
          "output_type": "display_data",
          "data": {
            "text/plain": [
              "<Figure size 640x480 with 1 Axes>"
            ],
            "image/png": "[encoded data removed]"
          },
          "metadata": {}
        }
      ]
    },
    {
      "cell_type": "markdown",
      "source": [
        "## Insights\n",
        "* The mean time of delivery is 20.5 minutes\n",
        "* The median time of delivery is 15.79 minutes\n",
        "* Base on the plot above the delivery is always very low on tuesday in comparison to other days\n",
        "* The data contains a whole lot of outliers with the maximum value being equal to 7000 minute while the median value is 15\n",
        "* We can't drop the dataset since it will be  manipulative on mr kanav side to hide the details of the orders he failed to deliver on time\n",
        "* Mr Kanav will still remain in business because the 95 percentile is 27 minutes inessence 95 percent of the delivery were deliver before 28 minutes"
      ],
      "metadata": {
        "id": "_V20MQwdFQWN"
      }
    },
    {
      "cell_type": "code",
      "source": [],
      "metadata": {
        "id": "Itr8EoQ6EwvM"
      },
      "execution_count": null,
      "outputs": []
    }
  ]
}