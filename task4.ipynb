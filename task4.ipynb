{
  "nbformat": 4,
  "nbformat_minor": 0,
  "metadata": {
    "colab": {
      "provenance": [],
      "authorship_tag": "ABX9TyMfQcvOIri4Nvet62EDcvnp",
      "include_colab_link": true
    },
    "kernelspec": {
      "name": "python3",
      "display_name": "Python 3"
    },
    "language_info": {
      "name": "python"
    }
  },
  "cells": [
    {
      "cell_type": "markdown",
      "metadata": {
        "id": "view-in-github",
        "colab_type": "text"
      },
      "source": [
        "<a href=\"https://colab.research.google.com/github/Alonge9500/programming_assignment/blob/main/task4.ipynb\" target=\"_parent\"><img src=\"https://colab.research.google.com/assets/colab-badge.svg\" alt=\"Open In Colab\"/></a>"
      ]
    },
    {
      "cell_type": "code",
      "execution_count": null,
      "metadata": {
        "id": "ztif2ryzZlW8"
      },
      "outputs": [],
      "source": [
        "#String Formatting\n",
        "\n",
        "def print_formatted(number):\n",
        "    # your code goes here\n",
        "    for num in range(1,number+1):\n",
        "        print(f'{str(num).rjust(len(\"{0:b}\".format(number)))} {str(oct(num))[2:].rjust(len(\"{0:b}\".format(number)))} {str(hex(num))[2:].upper().rjust(len(\"{0:b}\".format(number)))} {str(bin(num)[2:].rjust(len(\"{0:b}\".format(number))))}')\n"
      ]
    },
    {
      "cell_type": "code",
      "source": [
        "#sWAP cASE\n",
        "\n",
        "def swap_case(s):\n",
        "    change_s =''\n",
        "    for letter in s:\n",
        "        if letter.isupper():\n",
        "            change_s += letter.lower()\n",
        "        else:\n",
        "            change_s += letter.upper()\n",
        "            \n",
        "            \n",
        "    return change_s\n",
        "\n",
        "\n"
      ],
      "metadata": {
        "id": "qpINToDEI0x4"
      },
      "execution_count": null,
      "outputs": []
    },
    {
      "cell_type": "code",
      "source": [
        "#What's Your Name?\n",
        "\n",
        "def print_full_name(first, last):\n",
        "    # Write your code here\n",
        "    print(f'Hello {first} {last}! You just delved into python.')\n"
      ],
      "metadata": {
        "id": "xiUOVJVYGDGn"
      },
      "execution_count": null,
      "outputs": []
    },
    {
      "cell_type": "code",
      "source": [
        "#Mutations\n",
        "def mutate_string(string, position, character):\n",
        "    list_str = list(string)\n",
        "    list_str[position] = character\n",
        "    \n",
        "    return \"\".join(list_str)\n",
        "\n"
      ],
      "metadata": {
        "id": "DuB6XA6DGDdO"
      },
      "execution_count": null,
      "outputs": []
    },
    {
      "cell_type": "code",
      "source": [
        "#Find a string\n",
        "\n",
        "def count_substring(string, sub_string):\n",
        "    count = 0  # initialize count to 0\n",
        "    start = 0  # initialize start index to 0\n",
        "\n",
        "    while True:\n",
        "        # find the next occurrence of the substring starting from the current start index\n",
        "        index = string.find(sub_string, start)\n",
        "        # if the substring is not found, break out of the loop\n",
        "        if index == -1:\n",
        "            break\n",
        "        # if the substring is found, increment the count and update the start index to search from the next position\n",
        "        count += 1\n",
        "        start = index + 1\n",
        "\n",
        "   \n",
        "    return count\n",
        "\n",
        "\n"
      ],
      "metadata": {
        "id": "TSNQ1iHcGDpm"
      },
      "execution_count": null,
      "outputs": []
    },
    {
      "cell_type": "code",
      "source": [
        "#String Validators\n",
        "\n",
        "if __name__ == '__main__':\n",
        "    s = input()\n",
        "    print(any(c.isalnum() for c in s))\n",
        "    print(any(c.isalpha() for c in s))\n",
        "    print(any(c.isdigit() for c in s))\n",
        "    print(any(c.islower() for c in s))\n",
        "    print(any(c.isupper() for c in s))\n",
        "      \n"
      ],
      "metadata": {
        "id": "xVEX2gXUGtyS"
      },
      "execution_count": null,
      "outputs": []
    },
    {
      "cell_type": "code",
      "source": [
        "#Text Alignment\n",
        "\n",
        "#Replace all ______ with rjust, ljust or center. \n",
        "\n",
        "thickness = int(input()) #This must be an odd number\n",
        "c = 'H'\n",
        "\n",
        "#Top Cone\n",
        "for i in range(thickness):\n",
        "    print((c*i).rjust(thickness-1)+c+(c*i).ljust(thickness-1))\n",
        "\n",
        "#Top Pillars\n",
        "for i in range(thickness+1):\n",
        "    print((c*thickness).center(thickness*2)+(c*thickness).center(thickness*6))\n",
        "\n",
        "#Middle Belt\n",
        "for i in range((thickness+1)//2):\n",
        "    print((c*thickness*5).center(thickness*6))    \n",
        "\n",
        "#Bottom Pillars\n",
        "for i in range(thickness+1):\n",
        "    print((c*thickness).center(thickness*2)+(c*thickness).center(thickness*6))    \n",
        "\n",
        "#Bottom Cone\n",
        "for i in range(thickness):\n",
        "    print(((c*(thickness-i-1)).rjust(thickness)+c+(c*(thickness-i-1)).ljust(thickness)).rjust(thickness*6))\n"
      ],
      "metadata": {
        "id": "RzZEDHeVGt7m"
      },
      "execution_count": null,
      "outputs": []
    },
    {
      "cell_type": "code",
      "source": [
        "#The minnions\n",
        "\n",
        "vow = \"AEIOU\"\n",
        "\n",
        "def minion_game(string):\n",
        "    stu = 0\n",
        "    kev = 0\n",
        "    length = len(string)\n",
        "    for x in range(length):\n",
        "        if string[x] in vow:\n",
        "            kev += length - x\n",
        "        else:\n",
        "            stu += length - x\n",
        "    if kev > stu:\n",
        "        print(\"Kevin\", kev)\n",
        "    elif stu > kev:\n",
        "        print(\"Stuart\", stu)\n",
        "    else:\n",
        "        print(\"Draw\")\n",
        "\n",
        "\n",
        "\n",
        "if __name__ == '__main__':\n",
        "    s = input()\n",
        "    minion_game(s)"
      ],
      "metadata": {
        "id": "QOasFWMVL1BJ"
      },
      "execution_count": null,
      "outputs": []
    },
    {
      "cell_type": "code",
      "source": [
        "#Text Wrap\n",
        "import textwrap\n",
        "\n",
        "def wrap(string, max_width):\n",
        "    return \"\\n\".join(textwrap.wrap(string, max_width))\n",
        "\n"
      ],
      "metadata": {
        "id": "Ok4ZjAvrHCxI"
      },
      "execution_count": null,
      "outputs": []
    },
    {
      "cell_type": "code",
      "source": [
        "#Designer Door Mat\n",
        "\n",
        "# Enter your code here. Read input from STDIN. Print output to STDOUT\n",
        "def print_design_pattern(n, m):\n",
        "    pattern = \".|.\"\n",
        "    welcome_message = \"WELCOME\"\n",
        "    \n",
        "    for i in range(n//2):\n",
        "        design = (pattern*(i*2+1)).center(m, '-')\n",
        "        print(design)\n",
        "    \n",
        "    print(welcome_message.center(m, '-'))\n",
        "    \n",
        "    for i in range(n//2-1, -1, -1):\n",
        "        design = (pattern*(i*2+1)).center(m, '-')\n",
        "        print(design)\n",
        "        \n",
        "n, m = map(int, input().split())\n",
        "print_design_pattern(n, m)\n"
      ],
      "metadata": {
        "id": "MdxhXW49HC7y"
      },
      "execution_count": null,
      "outputs": []
    },
    {
      "cell_type": "code",
      "source": [
        "#String Split and Join\n",
        "\n",
        "def split_and_join(line):\n",
        "    # write your code here\n",
        "    line_list = line.split(' ')\n",
        "    line_dash = \"-\".join(line_list)\n",
        "    \n",
        "    return line_dash\n"
      ],
      "metadata": {
        "id": "2-xUWPiVF5eX"
      },
      "execution_count": null,
      "outputs": []
    },
    {
      "cell_type": "code",
      "source": [
        "#Alphabet Rangoli\n",
        "\n",
        "import string\n",
        "\n",
        "def print_rangoli(size):\n",
        "    # your code goes here\n",
        "    # create a string of lowercase letters up to size n\n",
        "    alphabet = string.ascii_lowercase[:size]\n",
        "\n",
        "    # create the upper half of the rangoli\n",
        "    for i in range(size-1, 0, -1):\n",
        "        row = [\"-\"] * (2*size-1)\n",
        "        for j in range(0, size-i):\n",
        "            row[size-1-j] = alphabet[j+i]\n",
        "            row[size-1+j] = alphabet[j+i]\n",
        "        print(\"-\".join(row))\n",
        "\n",
        "    # create the center row of the rangoli\n",
        "    row = [\"-\"] * (2*size-1)\n",
        "    for i in range(size):\n",
        "        row[size-1-i] = alphabet[i]\n",
        "        row[size-1+i] = alphabet[i]\n",
        "    print(\"-\".join(row))\n",
        "\n",
        "    # create the lower half of the rangoli\n",
        "    for i in range(1, size):\n",
        "        row = [\"-\"] * (2*size-1)\n",
        "        for j in range(0, size-i):\n",
        "            row[size-1-j] = alphabet[j+i]\n",
        "            row[size-1+j] = alphabet[j+i]\n",
        "        print(\"-\".join(row))\n",
        "\n",
        "\n",
        "\n",
        "print_rangoli(5)"
      ],
      "metadata": {
        "colab": {
          "base_uri": "https://localhost:8080/"
        },
        "id": "KMjKdpQmHlJv",
        "outputId": "ae02b346-d005-4be3-e326-24e6c8e731f1"
      },
      "execution_count": 2,
      "outputs": [
        {
          "output_type": "stream",
          "name": "stdout",
          "text": [
            "--------e--------\n",
            "------e-d-e------\n",
            "----e-d-c-d-e----\n",
            "--e-d-c-b-c-d-e--\n",
            "e-d-c-b-a-b-c-d-e\n",
            "--e-d-c-b-c-d-e--\n",
            "----e-d-c-d-e----\n",
            "------e-d-e------\n",
            "--------e--------\n"
          ]
        }
      ]
    },
    {
      "cell_type": "code",
      "source": [
        "#Capitalize!\n",
        "\n",
        "\n",
        "\n",
        "# Complete the solve function below.\n",
        "def solve(s):\n",
        "    s_list = s.split(' ')\n",
        "    s_list = [l.capitalize() for l in s_list]\n",
        "    \n",
        "    return ' '.join(s_list)\n",
        "\n"
      ],
      "metadata": {
        "id": "9juNmn2uH9fP"
      },
      "execution_count": null,
      "outputs": []
    },
    {
      "cell_type": "code",
      "source": [],
      "metadata": {
        "id": "PRSr_UlTIwdD"
      },
      "execution_count": null,
      "outputs": []
    },
    {
      "cell_type": "code",
      "source": [
        "#Merge the tools\n",
        "\n",
        "def merge_the_tools(string, k):\n",
        "    # your code goes here\n",
        "    length = len(string)\n",
        "    for i in range(0, length,k):\n",
        "        t = string[i:i + k]\n",
        "        u= ''\n",
        "        for tt in t:\n",
        "            if tt in u:\n",
        "                continue\n",
        "            else:\n",
        "                u+=tt\n",
        "        print(u)\n",
        "\n"
      ],
      "metadata": {
        "id": "Tjg8k70cADpp"
      },
      "execution_count": null,
      "outputs": []
    }
  ]
}