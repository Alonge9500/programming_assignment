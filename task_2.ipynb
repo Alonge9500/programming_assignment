{
  "nbformat": 4,
  "nbformat_minor": 0,
  "metadata": {
    "colab": {
      "provenance": [],
      "authorship_tag": "ABX9TyNC/LFikjvdwDDdV/aVMKX7",
      "include_colab_link": true
    },
    "kernelspec": {
      "name": "python3",
      "display_name": "Python 3"
    },
    "language_info": {
      "name": "python"
    }
  },
  "cells": [
    {
      "cell_type": "markdown",
      "metadata": {
        "id": "view-in-github",
        "colab_type": "text"
      },
      "source": [
        "<a href=\"https://colab.research.google.com/github/Alonge9500/programming_assignment/blob/main/task_2.ipynb\" target=\"_parent\"><img src=\"https://colab.research.google.com/assets/colab-badge.svg\" alt=\"Open In Colab\"/></a>"
      ]
    },
    {
      "cell_type": "markdown",
      "source": [
        "Task 2 of the innomatics data science feb 2023 internship\n",
        "Hackerrank task"
      ],
      "metadata": {
        "id": "JHmmISQFT7AK"
      }
    },
    {
      "cell_type": "code",
      "execution_count": null,
      "metadata": {
        "id": "3AwA6CgrTzdB"
      },
      "outputs": [],
      "source": [
        "#List Comprehensions\n",
        "\n",
        "if __name__ == '__main__':\n",
        "    x = int(input())\n",
        "    y = int(input())\n",
        "    z = int(input())\n",
        "    n = int(input())\n",
        "    \n",
        "    lst = [[i,j,k] for i in range(x+1) for j in range(y +1) for k in range(z + 1) if i+j+k !=n]\n",
        "    print(lst)"
      ]
    },
    {
      "cell_type": "code",
      "source": [
        "#Find the Runner-Up Score!\n",
        "\n",
        "if __name__ == '__main__':\n",
        "    n = int(input())\n",
        "    arr = map(int, input().split())\n",
        "    arr = list(arr)\n",
        "    \n",
        "    max_num = max(arr)\n",
        "    new_arr = []\n",
        "    for i in arr:\n",
        "        if i == max_num:\n",
        "            continue\n",
        "        else:\n",
        "            new_arr.append(i)\n",
        "    second= max(new_arr)\n",
        "    print(second)\n"
      ],
      "metadata": {
        "id": "_BM4kA1RUcLh"
      },
      "execution_count": null,
      "outputs": []
    },
    {
      "cell_type": "code",
      "source": [
        "#Nested Lists\n",
        "\n",
        "if __name__ == '__main__':\n",
        "    records=[]\n",
        "    for _ in range(int(input())):\n",
        "        name = input()\n",
        "        score = float(input())\n",
        "        records.append([name,score])\n",
        "        \n",
        "    records.sort(reverse=True,key=lambda x:x[1])\n",
        "    smallest = min(records,key=lambda x:x[1])[1]\n",
        "    \n",
        "    update_record = [rec for rec in records if rec[1]!=smallest]\n",
        "    second_smallest_score = min(update_record,key=lambda x:x[1])[1]\n",
        "    names = [rec[0] for rec in update_record if rec[1] == second_smallest_score]\n",
        "    \n",
        "    names.sort()\n",
        "    for name in names:\n",
        "        print(name)\n",
        "            \n",
        "    \n"
      ],
      "metadata": {
        "id": "HMVMoSZoUouh"
      },
      "execution_count": null,
      "outputs": []
    },
    {
      "cell_type": "code",
      "source": [
        "#Finding the percentage\n",
        "\n",
        "if __name__ == '__main__':\n",
        "    n = int(input())\n",
        "    student_marks = {}\n",
        "    for _ in range(n):\n",
        "        name, *line = input().split()\n",
        "        scores = list(map(float, line))\n",
        "        student_marks[name] = scores\n",
        "    query_name = input()\n",
        "    print('{:.2f}'.format(sum(student_marks[query_name])/len(student_marks[query_name])))\n"
      ],
      "metadata": {
        "id": "N_f-ItLzUvwV"
      },
      "execution_count": null,
      "outputs": []
    },
    {
      "cell_type": "code",
      "source": [
        "#Lists\n",
        "\n",
        "if __name__ == '__main__':\n",
        "    N = int(input())\n",
        "    arr = []\n",
        "    \n",
        "    \n",
        "    for x in range(N):\n",
        "        action = input()\n",
        "        action = action.split(' ')\n",
        "        \n",
        "        if action[0].lower() =='insert':\n",
        "            arr.insert(int(action[1]),int(action[2]))\n",
        "            \n",
        "        elif action[0].lower() == 'print':\n",
        "            print(arr)\n",
        "            \n",
        "        elif action[0].lower() == 'remove':\n",
        "            arr.remove(int(action[1]))\n",
        "        elif action[0].lower() == 'append':\n",
        "            arr.append(int(action[1]))\n",
        "        \n",
        "        elif action[0].lower() == 'sort':\n",
        "            arr.sort()\n",
        "        elif action[0].lower() == 'pop':\n",
        "            arr.pop()\n",
        "        elif action[0].lower() == 'reverse':\n",
        "            arr.reverse()\n",
        "            \n",
        "            \n",
        "            "
      ],
      "metadata": {
        "id": "zYh6YW7JU1SS"
      },
      "execution_count": null,
      "outputs": []
    },
    {
      "cell_type": "code",
      "source": [
        "#Tuples\n",
        "if __name__ == '__main__':\n",
        "    n = int(input())\n",
        "    integer_list = map(int, input().split())\n",
        "    \n",
        "    print(hash(tuple(integer_list)))\n"
      ],
      "metadata": {
        "id": "YzkoUuW6U7wF"
      },
      "execution_count": null,
      "outputs": []
    },
    {
      "cell_type": "code",
      "source": [
        "#Introduction to Sets\n",
        "\n",
        "def average(array):\n",
        "    # your code goes here\n",
        "    return sum(set(array))/len(set(array))\n",
        "\n"
      ],
      "metadata": {
        "id": "xN3_OeTVVLew"
      },
      "execution_count": null,
      "outputs": []
    },
    {
      "cell_type": "code",
      "source": [
        "# Noidea\n",
        "# Enter your code here. Read input from STDIN. Print output to STDOUT\n",
        "n, m = map(int, input().split())\n",
        "lst = list(map(int, input().split()))\n",
        "a = set(map(int, input().split()))\n",
        "b = set(map(int, input().split()))\n",
        "\n",
        "happiness = 0\n",
        "for i in lst:\n",
        "    if i in a:\n",
        "        happiness += 1\n",
        "    elif i in b:\n",
        "        happiness -= 1\n",
        "\n",
        "print(happiness)\n"
      ],
      "metadata": {
        "id": "AR9eVYBoWna7"
      },
      "execution_count": null,
      "outputs": []
    },
    {
      "cell_type": "code",
      "source": [
        "#Symmetric Difference\n",
        "\n",
        "# Enter your code here. Read input from STDIN. Print output to STDOUT\n",
        "m = int(input())\n",
        "set_m= set(map(int, input().split()))\n",
        "n = int(input())\n",
        "set_n= set(map(int, input().split()))\n",
        "data = sorted(list(set_n.union(set_m)))\n",
        "for num in data:\n",
        "    if num in set_m and num in set_n:\n",
        "        continue\n",
        "    else:\n",
        "        print(num)\n"
      ],
      "metadata": {
        "id": "mHlZy7JfWxSR"
      },
      "execution_count": null,
      "outputs": []
    },
    {
      "cell_type": "code",
      "source": [
        "# Set .add()\n",
        "\n",
        "# Enter your code here. Read input from STDIN. Print output to STDOUT\n",
        "n = int(input())\n",
        "stamps = set()\n",
        "\n",
        "for x in range(n):\n",
        "    country = input()\n",
        "    stamps.add(country)\n",
        "print(len(stamps))\n"
      ],
      "metadata": {
        "id": "j0s6Vsg9XOb4"
      },
      "execution_count": null,
      "outputs": []
    },
    {
      "cell_type": "code",
      "source": [
        "#Set .discard(), .remove() & .pop()\n",
        "\n",
        "n = int(input())\n",
        "s = set(map(int, input().split()))\n",
        "\n",
        "number_of_operation = int(input())\n",
        "for num in range(number_of_operation):\n",
        "    operations = input().split()\n",
        "    if operations[0] == 'pop':\n",
        "        s.pop()\n",
        "    elif operations[0] == 'remove':\n",
        "        s.remove(int(operations[1]))\n",
        "    elif operations[0] == 'discard':\n",
        "        s.discard(int(operations[1]))\n",
        "\n",
        "        \n",
        "\n",
        "        \n",
        "print(sum(s))\n"
      ],
      "metadata": {
        "id": "QqWxvhJXXWMx"
      },
      "execution_count": null,
      "outputs": []
    },
    {
      "cell_type": "code",
      "source": [
        "#Set .union() Operation\n",
        "\n",
        "# Enter your code here. Read input from STDIN. Print output to STDOUT\n",
        "\n",
        "n_eng = int(input())\n",
        "set_eng = set(map(int, input().split()))\n",
        "n_fren = int(input())\n",
        "set_fren = set(map(int, input().split()))\n",
        "\n",
        "print(len(set_eng.union(set_fren)))\n"
      ],
      "metadata": {
        "id": "17vGNXKCXclt"
      },
      "execution_count": null,
      "outputs": []
    },
    {
      "cell_type": "code",
      "source": [
        "#Set .intersection() Operation\n",
        "\n",
        "# Enter your code here. Read input from STDIN. Print output to STDOUT\n",
        "n = int(input())\n",
        "set_n = set(map(int, input().split()))\n",
        "b = int(input())\n",
        "set_b = set(map(int, input().split()))\n",
        "\n",
        "print(len(set_n.intersection(set_b)))\n"
      ],
      "metadata": {
        "id": "RWZvLJyfXw0S"
      },
      "execution_count": null,
      "outputs": []
    },
    {
      "cell_type": "code",
      "source": [
        "# Set .difference() Operation\n",
        "# Enter your code here. Read input from STDIN. Print output to STDOUT\n",
        "eng = int(input())\n",
        "set_eng = set(map(int, input().split()))\n",
        "fren = int(input())\n",
        "set_fren = map(int, input().split())\n",
        "\n",
        "print(len(set_eng.difference(set_fren)))\n"
      ],
      "metadata": {
        "id": "DWyN8v-FX5le"
      },
      "execution_count": null,
      "outputs": []
    },
    {
      "cell_type": "code",
      "source": [
        "# Set .symmetric_difference() Operation\n",
        "\n",
        "# Enter your code here. Read input from STDIN. Print output to STDOUT\n",
        "eng = int(input())\n",
        "set_eng = set(map(int, input().split()))\n",
        "fren = int(input())\n",
        "set_fren = set(map(int, input().split()))\n",
        "\n",
        "print(len(set_eng.symmetric_difference(set_fren)))\n"
      ],
      "metadata": {
        "id": "zBSj6t7QX_Xg"
      },
      "execution_count": null,
      "outputs": []
    },
    {
      "cell_type": "code",
      "source": [
        "# Set Mutations\n",
        "\n",
        "# Enter your code here. Read input from STDIN. Print output to STDOUT\n",
        "a = int(input())\n",
        "set_a = set(map(int, input().split()))\n",
        "n = int(input())\n",
        "\n",
        "for x in range(n):\n",
        "    operation = input().split()\n",
        "    set_other = set(map(int, input().split()))\n",
        "    op = operation[0]\n",
        "    if op == 'intersection_update':\n",
        "        set_a.intersection_update(set_other)\n",
        "    elif op == 'update':\n",
        "        set_a.update(set_other)\n",
        "    elif op == 'symmetric_difference_update':\n",
        "        set_a.symmetric_difference_update(set_other)\n",
        "    elif op == 'difference_update':\n",
        "        set_a.difference_update(set_other)\n",
        "\n",
        "print(sum(set_a))\n",
        "\n"
      ],
      "metadata": {
        "id": "HBIWc6TTYHYY"
      },
      "execution_count": null,
      "outputs": []
    },
    {
      "cell_type": "code",
      "source": [
        "#The Captain's Room\n",
        "\n",
        "# Enter your code here. Read input from STDIN. Print output to STDOUT\n",
        "k = int(input())\n",
        "room_list = list(map(int, input().split()))\n",
        "\n",
        "room_counts = {}\n",
        "for room in room_list:\n",
        "    room_counts[room] = room_counts.get(room, 0) + 1\n",
        "\n",
        "for room, count in room_counts.items():\n",
        "    if count == 1:\n",
        "        print(room)\n",
        "        break\n"
      ],
      "metadata": {
        "id": "DyO9B7IgYOlH"
      },
      "execution_count": null,
      "outputs": []
    },
    {
      "cell_type": "code",
      "source": [
        "#Check Subset\n",
        "\n",
        "# Enter your code here. Read input from STDIN. Print output to STDOUT\n",
        "test_case = int(input())\n",
        "\n",
        "for test in range(test_case):\n",
        "    a = int(input())\n",
        "    set_a = set(map(int, input().split()))\n",
        "    b = int(input())  \n",
        "    set_b = set(map(int, input().split()))\n",
        "    \n",
        "    print(set_a.issubset(set_b))\n"
      ],
      "metadata": {
        "id": "T6uYIrX2YUyC"
      },
      "execution_count": null,
      "outputs": []
    },
    {
      "cell_type": "code",
      "source": [
        "#Check Strict Superset\n",
        "\n",
        "# Enter your code here. Read input from STDIN. Print output to STDOUT\n",
        "   \n",
        "set_a = set(map(int, input().split()))\n",
        "case = int(input())\n",
        "sets = []\n",
        "for c in range(case):\n",
        "    set_other = set(map(int, input().split()))\n",
        "    sets.append(set_other)\n",
        "\n",
        "for sett in sets:\n",
        "    if not set_a.issuperset(sett):\n",
        "        print(False)\n",
        "        break\n",
        "else:\n",
        "    print(True)\n",
        "        \n",
        "\n",
        "        \n",
        "\n"
      ],
      "metadata": {
        "id": "59jtUa24YfFl"
      },
      "execution_count": null,
      "outputs": []
    }
  ]
}