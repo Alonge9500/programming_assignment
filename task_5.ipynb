{
  "nbformat": 4,
  "nbformat_minor": 0,
  "metadata": {
    "colab": {
      "provenance": [],
      "authorship_tag": "ABX9TyOmT6rLv5tBcuzvHF9Y0ks5",
      "include_colab_link": true
    },
    "kernelspec": {
      "name": "python3",
      "display_name": "Python 3"
    },
    "language_info": {
      "name": "python"
    }
  },
  "cells": [
    {
      "cell_type": "markdown",
      "metadata": {
        "id": "view-in-github",
        "colab_type": "text"
      },
      "source": [
        "<a href=\"https://colab.research.google.com/github/Alonge9500/programming_assignment/blob/main/task_5.ipynb\" target=\"_parent\"><img src=\"https://colab.research.google.com/assets/colab-badge.svg\" alt=\"Open In Colab\"/></a>"
      ]
    },
    {
      "cell_type": "code",
      "execution_count": null,
      "metadata": {
        "id": "7piUJso_A1FE"
      },
      "outputs": [],
      "source": [
        "# Introduction to regex\n",
        "\n",
        "# Enter your code here. Read input from STDIN. Print output to STDOUT\n",
        "import re\n",
        "\n",
        "t = int(input())\n",
        "\n",
        "for num in range(t):\n",
        "    \n",
        "    case = input()\n",
        "    try:\n",
        "        #^[-+]?[0-9]*\\.?[0-9]+\n",
        "        casefloat = float(case)\n",
        "        if bool(re.search(r\"^[+-]?[0-9]*\\.[0-9]+$\", case)) :\n",
        "            print(True)\n",
        "        else:\n",
        "            print(False)\n",
        "    except ValueError:\n",
        "        print(False)\n",
        "            "
      ]
    },
    {
      "cell_type": "code",
      "source": [
        "#RE.SPLIT()\n",
        "regex_pattern = r\"[,.]\"\t# Do not delete 'r'.\n",
        "\n",
        "import re\n",
        "print(\"\\n\".join(re.split(regex_pattern, input())))"
      ],
      "metadata": {
        "id": "FuR5x7KnD6-r"
      },
      "execution_count": null,
      "outputs": []
    },
    {
      "cell_type": "code",
      "source": [
        "#Group(), Groups() & Groupdict()\n",
        "\n",
        "import re\n",
        "\n",
        "text = input().strip()\n",
        "\n",
        "parse = re.search(r'([a-zA-Z0-9])\\1+', text)\n",
        "\n",
        "if parse:\n",
        "    print(parse.group(1))\n",
        "else:\n",
        "    print(\"-1\")\n",
        "    "
      ],
      "metadata": {
        "id": "WHXTXyNHEC4x"
      },
      "execution_count": null,
      "outputs": []
    },
    {
      "cell_type": "code",
      "source": [
        "#Re.findall() & Re.finditer()\n",
        "\n",
        "# Enter your code here. Read input from STDIN. Print output to STDOUT\n",
        "import re\n",
        "\n",
        "string = input()\n",
        "\n",
        "vowels = 'AEIOUaeiou'\n",
        "consonants = 'QWRTYPSDFGHJKLZXCVBNMqwrtypsdfghjklzxcvbnm'\n",
        "\n",
        "parse_text = \"(?<=[%s])[%s]{2,}(?=[%s])\" % (consonants, vowels, consonants)\n",
        "\n",
        "parse_match = re.findall(parse_text, string)\n",
        "\n",
        "if parse_match:\n",
        "    for match in parse_match:\n",
        "        print(match)\n",
        "else:\n",
        "    print(-1)\n",
        "\n"
      ],
      "metadata": {
        "colab": {
          "base_uri": "https://localhost:8080/"
        },
        "id": "gW0ikEddsOK8",
        "outputId": "056fe34b-093a-4a44-9810-ee64ccb929e1"
      },
      "execution_count": null,
      "outputs": [
        {
          "output_type": "stream",
          "name": "stdout",
          "text": [
            "['ee', 'Ioo', 'Oeo', 'eeeee']\n"
          ]
        }
      ]
    },
    {
      "cell_type": "code",
      "source": [
        "#start() & end()\n",
        "\n",
        "# Enter your code here. Read input from STDIN. Print output to STDOUT\n",
        "\n",
        "\n",
        "    \n",
        "import re\n",
        "\n",
        "s = input().strip()\n",
        "k = input().strip()\n",
        "pattern = f'(?=({k}))'\n",
        "\n",
        "matches = re.finditer(pattern, s)\n",
        "possible_match = False\n",
        "for m in matches:\n",
        "    possible_match = True\n",
        "    print(f\"({m.start(1)}, {m.end(1) -1})\")\n",
        "if not possible_match:\n",
        "    print((-1, -1))\n",
        "\n"
      ],
      "metadata": {
        "id": "lRqAkSFqx4r4"
      },
      "execution_count": null,
      "outputs": []
    },
    {
      "cell_type": "code",
      "source": [
        "#re-sub-regex-substitution\n",
        "\n",
        "# Enter your code here. Read input from STDIN. Print output to STDOUT\n",
        "\n",
        "import re\n",
        "\n",
        "len_text = int(input())\n",
        "for i in range(len_text):\n",
        "    text = input()\n",
        "    clean = re.sub('(?<= )(\\&\\&|\\|\\|)(?= )',lambda match: 'and' if match.group(1) == '&&' else 'or',text)\n",
        "\n",
        "    print(clean)"
      ],
      "metadata": {
        "id": "V1GgehKj66zq"
      },
      "execution_count": null,
      "outputs": []
    },
    {
      "cell_type": "code",
      "source": [
        "#Validating Roman numerals\n",
        "\n",
        "regex_pattern = r\"^M{0,3}(CM|CD|D?C{0,3})(XC|XL|L?X{0,3})(IX|IV|V?I{0,3}$)\"\t# Do not delete 'r'.\n",
        "\n",
        "import re\n",
        "print(str(bool(re.match(regex_pattern, input()))))"
      ],
      "metadata": {
        "id": "I3QjP26mH1zW"
      },
      "execution_count": null,
      "outputs": []
    },
    {
      "cell_type": "code",
      "source": [
        "#Validating phone numbers\n",
        "\n",
        "# Enter your code here. Read input from STDIN. Print output to STDOUT\n",
        "import re\n",
        "\n",
        "n = int(input())\n",
        "\n",
        "for _ in range(n):\n",
        "    number = input()\n",
        "    pattern = r\"^[789]{1}[0-9]{9}$\"\n",
        "    match = re.search(pattern,number)\n",
        "    \n",
        "    if match:\n",
        "        print('YES')\n",
        "    else:\n",
        "        print('NO')"
      ],
      "metadata": {
        "id": "aSotamwuhGbl"
      },
      "execution_count": null,
      "outputs": []
    },
    {
      "cell_type": "code",
      "source": [
        "#Validating emails\n",
        "import re\n",
        "from email import utils\n",
        "\n",
        "n = int(input().strip())\n",
        "\n",
        "for i in range(n):\n",
        "    name, email = utils.parseaddr(input().strip())\n",
        "    if re.match(r'^[a-zA-Z][a-zA-Z0-9._-]*@[a-zA-Z]+\\.[a-zA-Z]{1,3}$', email):\n",
        "        print(utils.formataddr((name, email)))\n",
        "\n",
        "        "
      ],
      "metadata": {
        "id": "KbrByZsgkx42"
      },
      "execution_count": null,
      "outputs": []
    },
    {
      "cell_type": "code",
      "source": [
        "#Hex Color\n",
        "import re\n",
        "\n",
        "n = int(input())\n",
        "\n",
        "for _ in range(n):\n",
        "    css_code = input()\n",
        "    pattern = r'#([0-9A-fa-f]{1,2}){3};'\n",
        "    #pattern = r'(?!\\A)(#[a-fA-f_0-9]{6}|#[a-fA-f_0-9]{3})'\n",
        "    match = re.findall(pattern,css_code)\n",
        "    if match:\n",
        "        print(match)\n"
      ],
      "metadata": {
        "id": "pYH3jGjcXMoy"
      },
      "execution_count": null,
      "outputs": []
    }
  ]
}